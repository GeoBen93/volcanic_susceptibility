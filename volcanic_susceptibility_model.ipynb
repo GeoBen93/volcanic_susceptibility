{
 "cells": [
  {
   "cell_type": "markdown",
   "metadata": {},
   "source": [
    "### Features\n",
    "\n",
    "Based on the method developed by Weller et al. 2006 (Modelling the spatial distribution of volcanoes: an example form Armenia. In: IAVCEI Spec. Pub. 1, Statistics in volcanology)\n",
    "\n",
    "1. Calculates probability of vent opening at user specified points during an eruption assuming a decaying probability away from previously active vents.\n",
    "2. Rate of probability decay is assumed to be Gaussian. The bandwidth of this Guassian kernel is estimated using the user defined vent location data. Nearest neighbour distances of vents are calucated and their cumulative density distribution of distance is compared to expected Gaussian distributions. The bandwidth of the Gaussian kernel is optimised to produce the best fit between the expected gaussian distribution and the user defined data.\n",
    "3. Probability at each particular location is calculated as the sum of probabilities associated with proximity to every vent, with a fixed bandwidth defined by step 2."
   ]
  },
  {
   "cell_type": "markdown",
   "metadata": {},
   "source": [
    "### Import Libraries"
   ]
  },
  {
   "cell_type": "code",
   "execution_count": null,
   "metadata": {},
   "outputs": [],
   "source": [
    "import matplotlib.pyplot as plt\n",
    "import csv\n",
    "import numpy as np\n",
    "from scipy.special import erf\n",
    "import matplotlib.mlab as mlab\n",
    "import pandas as pd\n",
    "from scipy.optimize import curve_fit"
   ]
  },
  {
   "cell_type": "markdown",
   "metadata": {},
   "source": [
    "### Import Aluto data"
   ]
  },
  {
   "cell_type": "code",
   "execution_count": null,
   "metadata": {},
   "outputs": [],
   "source": [
    "vent = pd.read_csv('/aluto_vents.csv')# import csv of existing vent locations\n",
    "fishnet = pd.read_csv('/vent_loc.csv') # import csv of input features (points at which to assess probability) "
   ]
  },
  {
   "cell_type": "markdown",
   "metadata": {},
   "source": [
    "### Calculate Nearest Neighbour Distances of Vents"
   ]
  },
  {
   "cell_type": "code",
   "execution_count": null,
   "metadata": {},
   "outputs": [],
   "source": [
    "x_mv1 = vent.x_mv.values # set x location values from vent csv\n",
    "y_mv1 = vent.y_mv.values # set y location values from vent csv\n",
    "\n",
    "x_mv2 = x_mv1 # create copy of x values\n",
    "y_mv2 = y_mv1 # create copy of y values\n",
    "\n",
    "#create empty fields for dx and dy\n",
    "dx=[] \n",
    "dy=[]\n",
    "\n",
    "#calculate difference in x and y coordinates between every vent. Append these to lists.\n",
    "for i in range(0,len(vent)):\n",
    "    for j in range(0,len(vent)):\n",
    "        dx.append(np.abs(x_mv1[i] - x_mv2[j]))\n",
    "        dy.append(np.abs(y_mv1[i] - y_mv2[j]))\n",
    "\n",
    "dist = np.hypot(dx,dy) # calculate distance between vents\n",
    "by_vent = np.reshape(dist,(len(vent),-1)) # split union of vent distances into vent distances per vent\n",
    "m_by_vent = np.ma.masked_equal(by_vent, 0.0, copy=False) # mask zero values in array\n",
    "near = np.amin(m_by_vent, axis=1) # extract nearest (min) distance within each by_vent\n",
    "nearkm = near*0.001 # convert to km"
   ]
  },
  {
   "cell_type": "markdown",
   "metadata": {},
   "source": [
    "### Compute the best fit gaussian kernel of the cumulative nearest neighbour distances"
   ]
  },
  {
   "cell_type": "code",
   "execution_count": null,
   "metadata": {},
   "outputs": [],
   "source": [
    "#----------Define function that describes best-fit curve\n",
    "\n",
    "def func_gauss(kernel,band):\n",
    "    return erf(kernel/(np.sqrt(2)*band))\n",
    "\n",
    "#----------Calculate cumulative density distribution of distance to nearest neighbour vent and find best fit-curve\n",
    "\n",
    "freq = np.histogram(nearkm,bins=1000) # bin near distance data\n",
    "cum_freq = np.cumsum(freq[0]) # calculate cumulative frequency of near distance bins\n",
    "cum_frac = cum_freq/max(cum_freq) # calculate cumulative frequency as fraction of total vents\n",
    "cum_frac = np.insert(cum_frac,0,0) # add zero value to beggining of cum_frac array to account for binning\n",
    "               \n",
    "xdata = freq[1] # define x data\n",
    "ydata = cum_frac # define y data\n",
    "               \n",
    "popt, pcov = curve_fit(func_gauss, xdata, ydata) # find curve defined by function that best matches cumulative density distribution\n",
    "\n",
    "#----------Plot result\n",
    "\n",
    "plt.plot(xdata,ydata, label='Cumulative density distribution of user data')\n",
    "plt.plot(xdata, func_gauss(xdata, *popt), 'r-', label=\"Bandwidth = \"+ str(popt)+ \" km\")\n",
    "plt.xlabel(\"Nearest Neighbour Distance (km)\")\n",
    "plt.ylabel(\"Fraction of Total Vents\")\n",
    "plt.title(\"Bandwidth = \" +str(popt))\n",
    "plt.show()"
   ]
  },
  {
   "cell_type": "markdown",
   "metadata": {},
   "source": [
    "### Calculate the vent opening probability based on the bandwidth of the gaussian kernel "
   ]
  },
  {
   "cell_type": "code",
   "execution_count": null,
   "metadata": {},
   "outputs": [],
   "source": [
    "#------------Extract x and y coordinates from near and input CSVs\n",
    "\n",
    "x_mf = fishnet.x_mf.values\n",
    "x_mv = vent.x_mv.values\n",
    "\n",
    "y_mf = fishnet.y_mf.values\n",
    "y_mv = vent.y_mv.values\n",
    "\n",
    "#------------create empty fields for dx and dy\n",
    "dx=[] \n",
    "dy=[]\n",
    "\n",
    "#------------calculate distance between every input and near feature. Append these to lists.\n",
    "for i in range(0,len(x_mf)):\n",
    "    for j in range(0,len(x_mv)):\n",
    "        dx.append(np.abs(x_mf[i] - x_mv[j]))\n",
    "        dy.append(np.abs(y_mf[i] - y_mv[j]))\n",
    "\n",
    "dist = np.hypot(dx,dy) # calculate distance between input and near features\n",
    "neardist = dist*0.001 # convert to km\n",
    "\n",
    "#------------calculate vent opening probability at every input feature (fishnet point)\n",
    "\n",
    "h = popt # set fixed bandwidth as Gaussian best-fit kernel bandwidth estimated in previous step\n",
    "z = np.exp(-0.5*(neardist/h)**2) # calculate z for every input-near distance\n",
    "by_fishnet = np.reshape(z,(len(fishnet),-1)) # split list of z values into chunks where each chunk contains all z values associated with each input feature\n",
    "sumz = np.sum(by_fishnet, axis = 1) # sum z values in each chunk.\n",
    "intensity = (sumz*(1/(2*np.pi*len(vent)*h**2)))/(4) # calculate spatial intensity for every input feature final division takes into account 500m point spacing but 1 km analysis size ((1km / spacing) ^2)\n",
    "\n",
    "#------------create dataframe of probabilities at each input location\n",
    "d = {'xUTM' :x_mf, 'yUTM' :y_mf, 'Prob' :intensity}\n",
    "df_prob = pd.DataFrame(d)\n",
    "\n",
    "#------------Visualise the results\n",
    "plt.scatter(x_mf, y_mf, c=intensity, cmap='viridis', s=7, marker='o')\n",
    "plt.axis('equal')\n",
    "plt.colorbar(label='P(vent|eruption)')\n",
    "plt.xlabel('UTMx [m]')\n",
    "plt.ylabel('UTMy [m]')\n",
    "\n",
    "#plt.scatter(x_mv, y_mv, c='white', s=2, marker='^')\n",
    "plt.ticklabel_format(axis='both', style='sci')#, scilimits=(-2,2))\n",
    "plt.show()"
   ]
  }
 ],
 "metadata": {
  "kernelspec": {
   "display_name": "Python 3",
   "language": "python",
   "name": "python3"
  },
  "language_info": {
   "codemirror_mode": {
    "name": "ipython",
    "version": 3
   },
   "file_extension": ".py",
   "mimetype": "text/x-python",
   "name": "python",
   "nbconvert_exporter": "python",
   "pygments_lexer": "ipython3",
   "version": "3.7.1"
  }
 },
 "nbformat": 4,
 "nbformat_minor": 2
}
